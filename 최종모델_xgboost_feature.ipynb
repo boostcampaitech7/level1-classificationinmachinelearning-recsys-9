{
 "cells": [
  {
   "cell_type": "markdown",
   "metadata": {},
   "source": [
    "### Library Import"
   ]
  },
  {
   "cell_type": "code",
   "execution_count": 1,
   "metadata": {},
   "outputs": [],
   "source": [
    "import os\n",
    "from typing import List, Dict\n",
    "from tqdm import tqdm\n",
    "import numpy as np\n",
    "import pandas as pd\n",
    "from sklearn.model_selection import train_test_split\n",
    "from sklearn.metrics import accuracy_score, roc_auc_score,confusion_matrix\n",
    "import lightgbm as lgb\n",
    "from plotly.subplots import make_subplots\n",
    "import plotly.graph_objects as go\n",
    "import xgboost as xgb\n",
    "import matplotlib.pyplot as plt\n",
    "from sklearn.model_selection import KFold\n",
    "from sklearn.utils import resample\n",
    "import seaborn as sns\n",
    "from sklearn.model_selection import TimeSeriesSplit"
   ]
  },
  {
   "cell_type": "markdown",
   "metadata": {},
   "source": [
    "### Data Load"
   ]
  },
  {
   "cell_type": "code",
   "execution_count": 2,
   "metadata": {},
   "outputs": [],
   "source": [
    "# 파일 호출\n",
    "data_path: str = \"/Users/kimminji/Downloads/data\"\n",
    "train_df: pd.DataFrame = pd.read_csv(os.path.join(data_path, \"train.csv\")).assign(_type=\"train\") # train 에는 _type = train \n",
    "test_df: pd.DataFrame = pd.read_csv(os.path.join(data_path, \"test.csv\")).assign(_type=\"test\") # test 에는 _type = test\n",
    "submission_df: pd.DataFrame = pd.read_csv(os.path.join(data_path, \"test.csv\")) # ID, target 열만 가진 데이터 미리 호출\n",
    "df: pd.DataFrame = pd.concat([train_df, test_df], axis=0)"
   ]
  },
  {
   "cell_type": "code",
   "execution_count": 3,
   "metadata": {},
   "outputs": [
    {
     "name": "stderr",
     "output_type": "stream",
     "text": [
      "100%|██████████| 107/107 [00:02<00:00, 38.74it/s]\n"
     ]
    }
   ],
   "source": [
    "# HOURLY_ 로 시작하는 .csv 파일 이름을 file_names 에 리스트로 할딩\n",
    "file_names: List[str] = [\n",
    "    f for f in os.listdir(data_path) if f.startswith(\"HOURLY_\") and f.endswith(\".csv\")\n",
    "]\n",
    "\n",
    "# 파일명 : 데이터프레임으로 딕셔너리 형태로 저장\n",
    "file_dict: Dict[str, pd.DataFrame] = {\n",
    "    f.replace(\".csv\", \"\"): pd.read_csv(os.path.join(data_path, f)) for f in file_names\n",
    "}\n",
    "\n",
    "for _file_name, _df in tqdm(file_dict.items()):\n",
    "    # 열 이름 중복 방지를 위해 {_file_name.lower()}_{col.lower()}로 변경, datetime 열을 ID로 변경\n",
    "    _rename_rule = {\n",
    "        col: f\"{_file_name.lower()}_{col.lower()}\" if col != \"datetime\" else \"ID\"\n",
    "        for col in _df.columns\n",
    "    }\n",
    "    _df = _df.rename(_rename_rule, axis=1)\n",
    "    df = df.merge(_df, on=\"ID\", how=\"left\")\n"
   ]
  },
  {
   "cell_type": "markdown",
   "metadata": {},
   "source": [
    "### EDA (Explanatory Data Analysis)"
   ]
  },
  {
   "cell_type": "code",
   "execution_count": 4,
   "metadata": {},
   "outputs": [
    {
     "data": {
      "text/plain": [
       "hourly_market-data_open-interest_ftx_all_symbol_open_interest                100.0\n",
       "hourly_market-data_open-interest_okx_open_interest                           100.0\n",
       "hourly_market-data_liquidations_okex_btc_usd_short_liquidations              100.0\n",
       "hourly_market-data_liquidations_okex_btc_usd_long_liquidations_usd           100.0\n",
       "hourly_market-data_liquidations_okex_btc_usd_short_liquidations_usd          100.0\n",
       "                                                                             ...  \n",
       "hourly_market-data_taker-buy-sell-stats_all_exchange_taker_buy_sell_ratio      0.0\n",
       "hourly_market-data_taker-buy-sell-stats_all_exchange_taker_sell_ratio          0.0\n",
       "hourly_market-data_taker-buy-sell-stats_all_exchange_taker_buy_ratio           0.0\n",
       "target                                                                         0.0\n",
       "hourly_market-data_open-interest_htx_global_btc_usdt_open_interest             0.0\n",
       "Length: 255, dtype: float64"
      ]
     },
     "execution_count": 4,
     "metadata": {},
     "output_type": "execute_result"
    }
   ],
   "source": [
    "eda_df = df.loc[df[\"_type\"] == \"train\"] #\n",
    "\n",
    "# 각 열에서 누락된 값의 수를 계산\n",
    "missing_values = eda_df.isnull().sum()\n",
    "\n",
    "# 누락된 값의 백분율 계산\n",
    "missing_percentage = (missing_values / len(eda_df)) * 100\n",
    "\n",
    "# 누락된 값 비율을 기준으로 열 정렬\n",
    "sorted_missing_percentage = missing_percentage.sort_values(ascending=False)\n",
    "sorted_missing_percentage"
   ]
  },
  {
   "cell_type": "code",
   "execution_count": 5,
   "metadata": {},
   "outputs": [],
   "source": [
    "# 몇 개 컬럼으로 EDA 예제\n",
    "cols_dict: Dict[str, str] = {\n",
    "    \"ID\": \"ID\",\n",
    "    \"target\": \"target\",\n",
    "    \"hourly_market-data_coinbase-premium-index_coinbase_premium_gap\": \"coinbase_premium_gap\",\n",
    "    \"hourly_market-data_liquidations_all_exchange_all_symbol_long_liquidations\": \"long_liquidations\",\n",
    "    \"hourly_market-data_liquidations_all_exchange_all_symbol_short_liquidations\": \"short_liquidations\",\n",
    "    \"hourly_market-data_taker-buy-sell-stats_all_exchange_taker_buy_volume\": \"buy_volume\",\n",
    "    \"hourly_market-data_taker-buy-sell-stats_all_exchange_taker_sell_volume\": \"sell_volume\",\n",
    "    \"hourly_market-data_open-interest_all_exchange_all_symbol_open_interest\": \"open_interest\",\n",
    "    \"hourly_network-data_blockreward_blockreward\":\"blockreward\",\n",
    "}\n",
    "# 추출후 단순화를 위해 rename\n",
    "eda_df = eda_df[cols_dict.keys()].rename(cols_dict, axis=1)"
   ]
  },
  {
   "cell_type": "code",
   "execution_count": 6,
   "metadata": {},
   "outputs": [
    {
     "data": {
      "text/plain": [
       "target\n",
       "2.0    0.419064\n",
       "1.0    0.404566\n",
       "3.0    0.091895\n",
       "0.0    0.084475\n",
       "Name: count, dtype: float64"
      ]
     },
     "execution_count": 6,
     "metadata": {},
     "output_type": "execute_result"
    }
   ],
   "source": [
    "# 타겟 레이블 분포\n",
    "eda_df[\"target\"].value_counts()/len(eda_df)"
   ]
  },
  {
   "cell_type": "code",
   "execution_count": 7,
   "metadata": {},
   "outputs": [
    {
     "data": {
      "text/html": [
       "<div>\n",
       "<style scoped>\n",
       "    .dataframe tbody tr th:only-of-type {\n",
       "        vertical-align: middle;\n",
       "    }\n",
       "\n",
       "    .dataframe tbody tr th {\n",
       "        vertical-align: top;\n",
       "    }\n",
       "\n",
       "    .dataframe thead th {\n",
       "        text-align: right;\n",
       "    }\n",
       "</style>\n",
       "<table border=\"1\" class=\"dataframe\">\n",
       "  <thead>\n",
       "    <tr style=\"text-align: right;\">\n",
       "      <th></th>\n",
       "      <th>target</th>\n",
       "      <th>coinbase_premium_gap</th>\n",
       "      <th>long_liquidations</th>\n",
       "      <th>short_liquidations</th>\n",
       "      <th>buy_volume</th>\n",
       "      <th>sell_volume</th>\n",
       "    </tr>\n",
       "  </thead>\n",
       "  <tbody>\n",
       "    <tr>\n",
       "      <th>0</th>\n",
       "      <td>0.0</td>\n",
       "      <td>11.618797</td>\n",
       "      <td>34.306873</td>\n",
       "      <td>35.351660</td>\n",
       "      <td>4.046126e+08</td>\n",
       "      <td>4.037655e+08</td>\n",
       "    </tr>\n",
       "    <tr>\n",
       "      <th>1</th>\n",
       "      <td>1.0</td>\n",
       "      <td>5.919164</td>\n",
       "      <td>15.403795</td>\n",
       "      <td>17.878903</td>\n",
       "      <td>2.416815e+08</td>\n",
       "      <td>2.378602e+08</td>\n",
       "    </tr>\n",
       "    <tr>\n",
       "      <th>2</th>\n",
       "      <td>2.0</td>\n",
       "      <td>6.234038</td>\n",
       "      <td>20.308427</td>\n",
       "      <td>15.901697</td>\n",
       "      <td>2.380949e+08</td>\n",
       "      <td>2.442232e+08</td>\n",
       "    </tr>\n",
       "    <tr>\n",
       "      <th>3</th>\n",
       "      <td>3.0</td>\n",
       "      <td>13.476845</td>\n",
       "      <td>45.540121</td>\n",
       "      <td>37.819832</td>\n",
       "      <td>4.306805e+08</td>\n",
       "      <td>4.376228e+08</td>\n",
       "    </tr>\n",
       "  </tbody>\n",
       "</table>\n",
       "</div>"
      ],
      "text/plain": [
       "   target  coinbase_premium_gap  long_liquidations  short_liquidations  \\\n",
       "0     0.0             11.618797          34.306873           35.351660   \n",
       "1     1.0              5.919164          15.403795           17.878903   \n",
       "2     2.0              6.234038          20.308427           15.901697   \n",
       "3     3.0             13.476845          45.540121           37.819832   \n",
       "\n",
       "     buy_volume   sell_volume  \n",
       "0  4.046126e+08  4.037655e+08  \n",
       "1  2.416815e+08  2.378602e+08  \n",
       "2  2.380949e+08  2.442232e+08  \n",
       "3  4.306805e+08  4.376228e+08  "
      ]
     },
     "execution_count": 7,
     "metadata": {},
     "output_type": "execute_result"
    }
   ],
   "source": [
    "# 타겟 값 별로 변수의 평균 파익\n",
    "bar_df = eda_df.groupby(\"target\").agg({\n",
    "    \"coinbase_premium_gap\" : \"mean\",\n",
    "    \"long_liquidations\" : \"mean\",\n",
    "    \"short_liquidations\" : \"mean\",\n",
    "    \"buy_volume\" : \"mean\",\n",
    "    \"sell_volume\" : \"mean\",\n",
    "}).reset_index()\n",
    "bar_df\n",
    "\n",
    "# 극단적인 경우, 즉 target 0, 3에서 평균적으로 coinbase_premium_gap, short_liquidations, buy_volume, sell_volume 값이 커짐"
   ]
  },
  {
   "cell_type": "code",
   "execution_count": 8,
   "metadata": {},
   "outputs": [
    {
     "data": {
      "application/vnd.plotly.v1+json": {
       "config": {
        "plotlyServerURL": "https://plot.ly"
       },
       "data": [
        {
         "type": "bar",
         "x": [
          2,
          1,
          3,
          0
         ],
         "xaxis": "x",
         "y": [
          0.41906392694063926,
          0.4045662100456621,
          0.09189497716894977,
          0.08447488584474885
         ],
         "yaxis": "y"
        },
        {
         "type": "bar",
         "x": [
          0,
          1,
          2,
          3
         ],
         "xaxis": "x2",
         "y": [
          11.618797297297297,
          5.919164313946923,
          6.234037622682661,
          13.476844720496896
         ],
         "yaxis": "y2"
        },
        {
         "type": "bar",
         "x": [
          0,
          1,
          2,
          3
         ],
         "xaxis": "x3",
         "y": [
          34.30687318508108,
          15.40379450079571,
          20.308427229095617,
          45.54012068674535
         ],
         "yaxis": "y3"
        },
        {
         "type": "bar",
         "x": [
          0,
          1,
          2,
          3
         ],
         "xaxis": "x4",
         "y": [
          35.3516596207973,
          17.878903239480813,
          15.901696586022883,
          37.81983174443478
         ],
         "yaxis": "y4"
        },
        {
         "type": "bar",
         "x": [
          0,
          1,
          2,
          3
         ],
         "xaxis": "x5",
         "y": [
          404612557.6485542,
          241681468.96934766,
          238094903.48355305,
          430680536.7217939
         ],
         "yaxis": "y5"
        },
        {
         "type": "bar",
         "x": [
          0,
          1,
          2,
          3
         ],
         "xaxis": "x6",
         "y": [
          403765478.5465977,
          237860228.0856347,
          244223154.86075944,
          437622751.5117634
         ],
         "yaxis": "y6"
        }
       ],
       "layout": {
        "annotations": [
         {
          "font": {
           "size": 16
          },
          "showarrow": false,
          "text": "target distribution",
          "x": 0.225,
          "xanchor": "center",
          "xref": "paper",
          "y": 1,
          "yanchor": "bottom",
          "yref": "paper"
         },
         {
          "font": {
           "size": 16
          },
          "showarrow": false,
          "text": "coinbase_premium_gap",
          "x": 0.775,
          "xanchor": "center",
          "xref": "paper",
          "y": 1,
          "yanchor": "bottom",
          "yref": "paper"
         },
         {
          "font": {
           "size": 16
          },
          "showarrow": false,
          "text": "long_liquidations",
          "x": 0.225,
          "xanchor": "center",
          "xref": "paper",
          "y": 0.6111111111111112,
          "yanchor": "bottom",
          "yref": "paper"
         },
         {
          "font": {
           "size": 16
          },
          "showarrow": false,
          "text": "short_liquidations",
          "x": 0.775,
          "xanchor": "center",
          "xref": "paper",
          "y": 0.6111111111111112,
          "yanchor": "bottom",
          "yref": "paper"
         },
         {
          "font": {
           "size": 16
          },
          "showarrow": false,
          "text": "buy_volume",
          "x": 0.225,
          "xanchor": "center",
          "xref": "paper",
          "y": 0.22222222222222224,
          "yanchor": "bottom",
          "yref": "paper"
         },
         {
          "font": {
           "size": 16
          },
          "showarrow": false,
          "text": "sell_volume",
          "x": 0.775,
          "xanchor": "center",
          "xref": "paper",
          "y": 0.22222222222222224,
          "yanchor": "bottom",
          "yref": "paper"
         }
        ],
        "showlegend": false,
        "template": {
         "data": {
          "bar": [
           {
            "error_x": {
             "color": "#2a3f5f"
            },
            "error_y": {
             "color": "#2a3f5f"
            },
            "marker": {
             "line": {
              "color": "#E5ECF6",
              "width": 0.5
             },
             "pattern": {
              "fillmode": "overlay",
              "size": 10,
              "solidity": 0.2
             }
            },
            "type": "bar"
           }
          ],
          "barpolar": [
           {
            "marker": {
             "line": {
              "color": "#E5ECF6",
              "width": 0.5
             },
             "pattern": {
              "fillmode": "overlay",
              "size": 10,
              "solidity": 0.2
             }
            },
            "type": "barpolar"
           }
          ],
          "carpet": [
           {
            "aaxis": {
             "endlinecolor": "#2a3f5f",
             "gridcolor": "white",
             "linecolor": "white",
             "minorgridcolor": "white",
             "startlinecolor": "#2a3f5f"
            },
            "baxis": {
             "endlinecolor": "#2a3f5f",
             "gridcolor": "white",
             "linecolor": "white",
             "minorgridcolor": "white",
             "startlinecolor": "#2a3f5f"
            },
            "type": "carpet"
           }
          ],
          "choropleth": [
           {
            "colorbar": {
             "outlinewidth": 0,
             "ticks": ""
            },
            "type": "choropleth"
           }
          ],
          "contour": [
           {
            "colorbar": {
             "outlinewidth": 0,
             "ticks": ""
            },
            "colorscale": [
             [
              0,
              "#0d0887"
             ],
             [
              0.1111111111111111,
              "#46039f"
             ],
             [
              0.2222222222222222,
              "#7201a8"
             ],
             [
              0.3333333333333333,
              "#9c179e"
             ],
             [
              0.4444444444444444,
              "#bd3786"
             ],
             [
              0.5555555555555556,
              "#d8576b"
             ],
             [
              0.6666666666666666,
              "#ed7953"
             ],
             [
              0.7777777777777778,
              "#fb9f3a"
             ],
             [
              0.8888888888888888,
              "#fdca26"
             ],
             [
              1,
              "#f0f921"
             ]
            ],
            "type": "contour"
           }
          ],
          "contourcarpet": [
           {
            "colorbar": {
             "outlinewidth": 0,
             "ticks": ""
            },
            "type": "contourcarpet"
           }
          ],
          "heatmap": [
           {
            "colorbar": {
             "outlinewidth": 0,
             "ticks": ""
            },
            "colorscale": [
             [
              0,
              "#0d0887"
             ],
             [
              0.1111111111111111,
              "#46039f"
             ],
             [
              0.2222222222222222,
              "#7201a8"
             ],
             [
              0.3333333333333333,
              "#9c179e"
             ],
             [
              0.4444444444444444,
              "#bd3786"
             ],
             [
              0.5555555555555556,
              "#d8576b"
             ],
             [
              0.6666666666666666,
              "#ed7953"
             ],
             [
              0.7777777777777778,
              "#fb9f3a"
             ],
             [
              0.8888888888888888,
              "#fdca26"
             ],
             [
              1,
              "#f0f921"
             ]
            ],
            "type": "heatmap"
           }
          ],
          "heatmapgl": [
           {
            "colorbar": {
             "outlinewidth": 0,
             "ticks": ""
            },
            "colorscale": [
             [
              0,
              "#0d0887"
             ],
             [
              0.1111111111111111,
              "#46039f"
             ],
             [
              0.2222222222222222,
              "#7201a8"
             ],
             [
              0.3333333333333333,
              "#9c179e"
             ],
             [
              0.4444444444444444,
              "#bd3786"
             ],
             [
              0.5555555555555556,
              "#d8576b"
             ],
             [
              0.6666666666666666,
              "#ed7953"
             ],
             [
              0.7777777777777778,
              "#fb9f3a"
             ],
             [
              0.8888888888888888,
              "#fdca26"
             ],
             [
              1,
              "#f0f921"
             ]
            ],
            "type": "heatmapgl"
           }
          ],
          "histogram": [
           {
            "marker": {
             "pattern": {
              "fillmode": "overlay",
              "size": 10,
              "solidity": 0.2
             }
            },
            "type": "histogram"
           }
          ],
          "histogram2d": [
           {
            "colorbar": {
             "outlinewidth": 0,
             "ticks": ""
            },
            "colorscale": [
             [
              0,
              "#0d0887"
             ],
             [
              0.1111111111111111,
              "#46039f"
             ],
             [
              0.2222222222222222,
              "#7201a8"
             ],
             [
              0.3333333333333333,
              "#9c179e"
             ],
             [
              0.4444444444444444,
              "#bd3786"
             ],
             [
              0.5555555555555556,
              "#d8576b"
             ],
             [
              0.6666666666666666,
              "#ed7953"
             ],
             [
              0.7777777777777778,
              "#fb9f3a"
             ],
             [
              0.8888888888888888,
              "#fdca26"
             ],
             [
              1,
              "#f0f921"
             ]
            ],
            "type": "histogram2d"
           }
          ],
          "histogram2dcontour": [
           {
            "colorbar": {
             "outlinewidth": 0,
             "ticks": ""
            },
            "colorscale": [
             [
              0,
              "#0d0887"
             ],
             [
              0.1111111111111111,
              "#46039f"
             ],
             [
              0.2222222222222222,
              "#7201a8"
             ],
             [
              0.3333333333333333,
              "#9c179e"
             ],
             [
              0.4444444444444444,
              "#bd3786"
             ],
             [
              0.5555555555555556,
              "#d8576b"
             ],
             [
              0.6666666666666666,
              "#ed7953"
             ],
             [
              0.7777777777777778,
              "#fb9f3a"
             ],
             [
              0.8888888888888888,
              "#fdca26"
             ],
             [
              1,
              "#f0f921"
             ]
            ],
            "type": "histogram2dcontour"
           }
          ],
          "mesh3d": [
           {
            "colorbar": {
             "outlinewidth": 0,
             "ticks": ""
            },
            "type": "mesh3d"
           }
          ],
          "parcoords": [
           {
            "line": {
             "colorbar": {
              "outlinewidth": 0,
              "ticks": ""
             }
            },
            "type": "parcoords"
           }
          ],
          "pie": [
           {
            "automargin": true,
            "type": "pie"
           }
          ],
          "scatter": [
           {
            "fillpattern": {
             "fillmode": "overlay",
             "size": 10,
             "solidity": 0.2
            },
            "type": "scatter"
           }
          ],
          "scatter3d": [
           {
            "line": {
             "colorbar": {
              "outlinewidth": 0,
              "ticks": ""
             }
            },
            "marker": {
             "colorbar": {
              "outlinewidth": 0,
              "ticks": ""
             }
            },
            "type": "scatter3d"
           }
          ],
          "scattercarpet": [
           {
            "marker": {
             "colorbar": {
              "outlinewidth": 0,
              "ticks": ""
             }
            },
            "type": "scattercarpet"
           }
          ],
          "scattergeo": [
           {
            "marker": {
             "colorbar": {
              "outlinewidth": 0,
              "ticks": ""
             }
            },
            "type": "scattergeo"
           }
          ],
          "scattergl": [
           {
            "marker": {
             "colorbar": {
              "outlinewidth": 0,
              "ticks": ""
             }
            },
            "type": "scattergl"
           }
          ],
          "scattermapbox": [
           {
            "marker": {
             "colorbar": {
              "outlinewidth": 0,
              "ticks": ""
             }
            },
            "type": "scattermapbox"
           }
          ],
          "scatterpolar": [
           {
            "marker": {
             "colorbar": {
              "outlinewidth": 0,
              "ticks": ""
             }
            },
            "type": "scatterpolar"
           }
          ],
          "scatterpolargl": [
           {
            "marker": {
             "colorbar": {
              "outlinewidth": 0,
              "ticks": ""
             }
            },
            "type": "scatterpolargl"
           }
          ],
          "scatterternary": [
           {
            "marker": {
             "colorbar": {
              "outlinewidth": 0,
              "ticks": ""
             }
            },
            "type": "scatterternary"
           }
          ],
          "surface": [
           {
            "colorbar": {
             "outlinewidth": 0,
             "ticks": ""
            },
            "colorscale": [
             [
              0,
              "#0d0887"
             ],
             [
              0.1111111111111111,
              "#46039f"
             ],
             [
              0.2222222222222222,
              "#7201a8"
             ],
             [
              0.3333333333333333,
              "#9c179e"
             ],
             [
              0.4444444444444444,
              "#bd3786"
             ],
             [
              0.5555555555555556,
              "#d8576b"
             ],
             [
              0.6666666666666666,
              "#ed7953"
             ],
             [
              0.7777777777777778,
              "#fb9f3a"
             ],
             [
              0.8888888888888888,
              "#fdca26"
             ],
             [
              1,
              "#f0f921"
             ]
            ],
            "type": "surface"
           }
          ],
          "table": [
           {
            "cells": {
             "fill": {
              "color": "#EBF0F8"
             },
             "line": {
              "color": "white"
             }
            },
            "header": {
             "fill": {
              "color": "#C8D4E3"
             },
             "line": {
              "color": "white"
             }
            },
            "type": "table"
           }
          ]
         },
         "layout": {
          "annotationdefaults": {
           "arrowcolor": "#2a3f5f",
           "arrowhead": 0,
           "arrowwidth": 1
          },
          "autotypenumbers": "strict",
          "coloraxis": {
           "colorbar": {
            "outlinewidth": 0,
            "ticks": ""
           }
          },
          "colorscale": {
           "diverging": [
            [
             0,
             "#8e0152"
            ],
            [
             0.1,
             "#c51b7d"
            ],
            [
             0.2,
             "#de77ae"
            ],
            [
             0.3,
             "#f1b6da"
            ],
            [
             0.4,
             "#fde0ef"
            ],
            [
             0.5,
             "#f7f7f7"
            ],
            [
             0.6,
             "#e6f5d0"
            ],
            [
             0.7,
             "#b8e186"
            ],
            [
             0.8,
             "#7fbc41"
            ],
            [
             0.9,
             "#4d9221"
            ],
            [
             1,
             "#276419"
            ]
           ],
           "sequential": [
            [
             0,
             "#0d0887"
            ],
            [
             0.1111111111111111,
             "#46039f"
            ],
            [
             0.2222222222222222,
             "#7201a8"
            ],
            [
             0.3333333333333333,
             "#9c179e"
            ],
            [
             0.4444444444444444,
             "#bd3786"
            ],
            [
             0.5555555555555556,
             "#d8576b"
            ],
            [
             0.6666666666666666,
             "#ed7953"
            ],
            [
             0.7777777777777778,
             "#fb9f3a"
            ],
            [
             0.8888888888888888,
             "#fdca26"
            ],
            [
             1,
             "#f0f921"
            ]
           ],
           "sequentialminus": [
            [
             0,
             "#0d0887"
            ],
            [
             0.1111111111111111,
             "#46039f"
            ],
            [
             0.2222222222222222,
             "#7201a8"
            ],
            [
             0.3333333333333333,
             "#9c179e"
            ],
            [
             0.4444444444444444,
             "#bd3786"
            ],
            [
             0.5555555555555556,
             "#d8576b"
            ],
            [
             0.6666666666666666,
             "#ed7953"
            ],
            [
             0.7777777777777778,
             "#fb9f3a"
            ],
            [
             0.8888888888888888,
             "#fdca26"
            ],
            [
             1,
             "#f0f921"
            ]
           ]
          },
          "colorway": [
           "#636efa",
           "#EF553B",
           "#00cc96",
           "#ab63fa",
           "#FFA15A",
           "#19d3f3",
           "#FF6692",
           "#B6E880",
           "#FF97FF",
           "#FECB52"
          ],
          "font": {
           "color": "#2a3f5f"
          },
          "geo": {
           "bgcolor": "white",
           "lakecolor": "white",
           "landcolor": "#E5ECF6",
           "showlakes": true,
           "showland": true,
           "subunitcolor": "white"
          },
          "hoverlabel": {
           "align": "left"
          },
          "hovermode": "closest",
          "mapbox": {
           "style": "light"
          },
          "paper_bgcolor": "white",
          "plot_bgcolor": "#E5ECF6",
          "polar": {
           "angularaxis": {
            "gridcolor": "white",
            "linecolor": "white",
            "ticks": ""
           },
           "bgcolor": "#E5ECF6",
           "radialaxis": {
            "gridcolor": "white",
            "linecolor": "white",
            "ticks": ""
           }
          },
          "scene": {
           "xaxis": {
            "backgroundcolor": "#E5ECF6",
            "gridcolor": "white",
            "gridwidth": 2,
            "linecolor": "white",
            "showbackground": true,
            "ticks": "",
            "zerolinecolor": "white"
           },
           "yaxis": {
            "backgroundcolor": "#E5ECF6",
            "gridcolor": "white",
            "gridwidth": 2,
            "linecolor": "white",
            "showbackground": true,
            "ticks": "",
            "zerolinecolor": "white"
           },
           "zaxis": {
            "backgroundcolor": "#E5ECF6",
            "gridcolor": "white",
            "gridwidth": 2,
            "linecolor": "white",
            "showbackground": true,
            "ticks": "",
            "zerolinecolor": "white"
           }
          },
          "shapedefaults": {
           "line": {
            "color": "#2a3f5f"
           }
          },
          "ternary": {
           "aaxis": {
            "gridcolor": "white",
            "linecolor": "white",
            "ticks": ""
           },
           "baxis": {
            "gridcolor": "white",
            "linecolor": "white",
            "ticks": ""
           },
           "bgcolor": "#E5ECF6",
           "caxis": {
            "gridcolor": "white",
            "linecolor": "white",
            "ticks": ""
           }
          },
          "title": {
           "x": 0.05
          },
          "xaxis": {
           "automargin": true,
           "gridcolor": "white",
           "linecolor": "white",
           "ticks": "",
           "title": {
            "standoff": 15
           },
           "zerolinecolor": "white",
           "zerolinewidth": 2
          },
          "yaxis": {
           "automargin": true,
           "gridcolor": "white",
           "linecolor": "white",
           "ticks": "",
           "title": {
            "standoff": 15
           },
           "zerolinecolor": "white",
           "zerolinewidth": 2
          }
         }
        },
        "title": {
         "text": "Target statistics"
        },
        "xaxis": {
         "anchor": "y",
         "domain": [
          0,
          0.45
         ],
         "matches": "x5",
         "showticklabels": false
        },
        "xaxis2": {
         "anchor": "y2",
         "domain": [
          0.55,
          1
         ],
         "matches": "x6",
         "showticklabels": false
        },
        "xaxis3": {
         "anchor": "y3",
         "domain": [
          0,
          0.45
         ],
         "matches": "x5",
         "showticklabels": false
        },
        "xaxis4": {
         "anchor": "y4",
         "domain": [
          0.55,
          1
         ],
         "matches": "x6",
         "showticklabels": false
        },
        "xaxis5": {
         "anchor": "y5",
         "domain": [
          0,
          0.45
         ],
         "title": {
          "text": "Target"
         }
        },
        "xaxis6": {
         "anchor": "y6",
         "domain": [
          0.55,
          1
         ],
         "title": {
          "text": "Target"
         }
        },
        "yaxis": {
         "anchor": "x",
         "domain": [
          0.7777777777777778,
          1
         ]
        },
        "yaxis2": {
         "anchor": "x2",
         "domain": [
          0.7777777777777778,
          1
         ]
        },
        "yaxis3": {
         "anchor": "x3",
         "domain": [
          0.3888888888888889,
          0.6111111111111112
         ]
        },
        "yaxis4": {
         "anchor": "x4",
         "domain": [
          0.3888888888888889,
          0.6111111111111112
         ]
        },
        "yaxis5": {
         "anchor": "x5",
         "domain": [
          0,
          0.22222222222222224
         ]
        },
        "yaxis6": {
         "anchor": "x6",
         "domain": [
          0,
          0.22222222222222224
         ]
        }
       }
      }
     },
     "metadata": {},
     "output_type": "display_data"
    }
   ],
   "source": [
    "# 보다 관계를 명확히 파악하기 위해 barplot을 이용한 시각화 코드 작성\n",
    "fig: go.Figure = make_subplots(\n",
    "    rows=3,\n",
    "    cols=2,\n",
    "    shared_xaxes=True,\n",
    "    subplot_titles=(\n",
    "        \"target distribution\",\n",
    "        \"coinbase_premium_gap\",\n",
    "        \"long_liquidations\",\n",
    "        \"short_liquidations\",\n",
    "        \"buy_volume\",\n",
    "        \"sell_volume\",\n",
    "    ),\n",
    ")\n",
    "_target_disrtibution = eda_df[\"target\"].value_counts() / len(eda_df)\n",
    "fig.add_trace(\n",
    "    go.Bar(\n",
    "        x=_target_disrtibution.index, \n",
    "        y=_target_disrtibution,\n",
    "    ), row=1, col=1\n",
    ")\n",
    "fig.add_trace(go.Bar(x=bar_df[\"target\"], y=bar_df[\"coinbase_premium_gap\"]), row=1, col=2)\n",
    "fig.add_trace(go.Bar(x=bar_df[\"target\"], y=bar_df[\"long_liquidations\"]), row=2, col=1)\n",
    "fig.add_trace(go.Bar(x=bar_df[\"target\"], y=bar_df[\"short_liquidations\"]), row=2, col=2)\n",
    "fig.add_trace(go.Bar(x=bar_df[\"target\"], y=bar_df[\"buy_volume\"]), row=3, col=1)\n",
    "fig.add_trace(go.Bar(x=bar_df[\"target\"], y=bar_df[\"sell_volume\"]), row=3, col=2)\n",
    "fig.update_layout(title_text=\"Target statistics\", showlegend=False)\n",
    "fig.update_xaxes(title_text=\"Target\", row=3)\n",
    "fig.show()"
   ]
  },
  {
   "cell_type": "markdown",
   "metadata": {},
   "source": [
    "**위 그림으로부터 파악한 사실**\n",
    "\n",
    "- target의 값 [0, 3]과 [1, 2]는 설명변수의 평균이 다르기 때문에 모델이 구분할 수 있을 것으로 추측\n",
    "- 그러나, 각 target의 값 별로는 주어진 변수만으로 구별이 어려울 것으로 판단, 따라서 추가적인 feature engineering이 필요 \n",
    "\n",
    "**가설**\n",
    "1. long 포지션, short 포지션의 청산량의 차이가 가격 변동에 영향을 줄 것이다.\n",
    "2. buy 거래량, sell 거래량의 차이가 가격 변동에 영향을 줄 것이다."
   ]
  },
  {
   "cell_type": "code",
   "execution_count": 9,
   "metadata": {},
   "outputs": [
    {
     "data": {
      "text/html": [
       "<div>\n",
       "<style scoped>\n",
       "    .dataframe tbody tr th:only-of-type {\n",
       "        vertical-align: middle;\n",
       "    }\n",
       "\n",
       "    .dataframe tbody tr th {\n",
       "        vertical-align: top;\n",
       "    }\n",
       "\n",
       "    .dataframe thead th {\n",
       "        text-align: right;\n",
       "    }\n",
       "</style>\n",
       "<table border=\"1\" class=\"dataframe\">\n",
       "  <thead>\n",
       "    <tr style=\"text-align: right;\">\n",
       "      <th></th>\n",
       "      <th>target</th>\n",
       "      <th>liquidation_diff</th>\n",
       "      <th>volume_diff</th>\n",
       "    </tr>\n",
       "  </thead>\n",
       "  <tbody>\n",
       "    <tr>\n",
       "      <th>0</th>\n",
       "      <td>0.0</td>\n",
       "      <td>-1.044786</td>\n",
       "      <td>8.470791e+05</td>\n",
       "    </tr>\n",
       "    <tr>\n",
       "      <th>1</th>\n",
       "      <td>1.0</td>\n",
       "      <td>-2.475109</td>\n",
       "      <td>3.821241e+06</td>\n",
       "    </tr>\n",
       "    <tr>\n",
       "      <th>2</th>\n",
       "      <td>2.0</td>\n",
       "      <td>4.406731</td>\n",
       "      <td>-6.128251e+06</td>\n",
       "    </tr>\n",
       "    <tr>\n",
       "      <th>3</th>\n",
       "      <td>3.0</td>\n",
       "      <td>7.720289</td>\n",
       "      <td>-6.942215e+06</td>\n",
       "    </tr>\n",
       "  </tbody>\n",
       "</table>\n",
       "</div>"
      ],
      "text/plain": [
       "   target  liquidation_diff   volume_diff\n",
       "0     0.0         -1.044786  8.470791e+05\n",
       "1     1.0         -2.475109  3.821241e+06\n",
       "2     2.0          4.406731 -6.128251e+06\n",
       "3     3.0          7.720289 -6.942215e+06"
      ]
     },
     "execution_count": 9,
     "metadata": {},
     "output_type": "execute_result"
    }
   ],
   "source": [
    "# liquidation, volume 으로 차이를 새로 생성하여 target 변수와의 관계 확인\n",
    "eda_df = eda_df.assign(\n",
    "    liquidation_diff=eda_df[\"long_liquidations\"] - eda_df[\"short_liquidations\"],\n",
    "    volume_diff=eda_df[\"buy_volume\"] - eda_df[\"sell_volume\"],\n",
    ")\n",
    "bar_df = eda_df.groupby(\"target\").agg({\n",
    "    \"liquidation_diff\" : \"mean\", \n",
    "    \"volume_diff\" : \"mean\", \n",
    "}).reset_index()\n",
    "bar_df # target 별로 liquidation diff, volume diff 가 각각 평균적으로 양의 관계, 음의 관계를 갖고 있음을 확인"
   ]
  },
  {
   "cell_type": "code",
   "execution_count": 10,
   "metadata": {},
   "outputs": [
    {
     "data": {
      "application/vnd.plotly.v1+json": {
       "config": {
        "plotlyServerURL": "https://plot.ly"
       },
       "data": [
        {
         "type": "bar",
         "x": [
          0,
          1,
          2,
          3
         ],
         "xaxis": "x",
         "y": [
          -1.0447864357162169,
          -2.475108738685101,
          4.406730643072732,
          7.72028894231056
         ],
         "yaxis": "y"
        },
        {
         "type": "bar",
         "x": [
          0,
          1,
          2,
          3
         ],
         "xaxis": "x2",
         "y": [
          847079.1019565525,
          3821240.8837129255,
          -6128251.377206372,
          -6942214.7899695365
         ],
         "yaxis": "y2"
        }
       ],
       "layout": {
        "annotations": [
         {
          "font": {
           "size": 16
          },
          "showarrow": false,
          "text": "liquidation_diff",
          "x": 0.225,
          "xanchor": "center",
          "xref": "paper",
          "y": 1,
          "yanchor": "bottom",
          "yref": "paper"
         },
         {
          "font": {
           "size": 16
          },
          "showarrow": false,
          "text": "volume_diff",
          "x": 0.775,
          "xanchor": "center",
          "xref": "paper",
          "y": 1,
          "yanchor": "bottom",
          "yref": "paper"
         }
        ],
        "showlegend": false,
        "template": {
         "data": {
          "bar": [
           {
            "error_x": {
             "color": "#2a3f5f"
            },
            "error_y": {
             "color": "#2a3f5f"
            },
            "marker": {
             "line": {
              "color": "#E5ECF6",
              "width": 0.5
             },
             "pattern": {
              "fillmode": "overlay",
              "size": 10,
              "solidity": 0.2
             }
            },
            "type": "bar"
           }
          ],
          "barpolar": [
           {
            "marker": {
             "line": {
              "color": "#E5ECF6",
              "width": 0.5
             },
             "pattern": {
              "fillmode": "overlay",
              "size": 10,
              "solidity": 0.2
             }
            },
            "type": "barpolar"
           }
          ],
          "carpet": [
           {
            "aaxis": {
             "endlinecolor": "#2a3f5f",
             "gridcolor": "white",
             "linecolor": "white",
             "minorgridcolor": "white",
             "startlinecolor": "#2a3f5f"
            },
            "baxis": {
             "endlinecolor": "#2a3f5f",
             "gridcolor": "white",
             "linecolor": "white",
             "minorgridcolor": "white",
             "startlinecolor": "#2a3f5f"
            },
            "type": "carpet"
           }
          ],
          "choropleth": [
           {
            "colorbar": {
             "outlinewidth": 0,
             "ticks": ""
            },
            "type": "choropleth"
           }
          ],
          "contour": [
           {
            "colorbar": {
             "outlinewidth": 0,
             "ticks": ""
            },
            "colorscale": [
             [
              0,
              "#0d0887"
             ],
             [
              0.1111111111111111,
              "#46039f"
             ],
             [
              0.2222222222222222,
              "#7201a8"
             ],
             [
              0.3333333333333333,
              "#9c179e"
             ],
             [
              0.4444444444444444,
              "#bd3786"
             ],
             [
              0.5555555555555556,
              "#d8576b"
             ],
             [
              0.6666666666666666,
              "#ed7953"
             ],
             [
              0.7777777777777778,
              "#fb9f3a"
             ],
             [
              0.8888888888888888,
              "#fdca26"
             ],
             [
              1,
              "#f0f921"
             ]
            ],
            "type": "contour"
           }
          ],
          "contourcarpet": [
           {
            "colorbar": {
             "outlinewidth": 0,
             "ticks": ""
            },
            "type": "contourcarpet"
           }
          ],
          "heatmap": [
           {
            "colorbar": {
             "outlinewidth": 0,
             "ticks": ""
            },
            "colorscale": [
             [
              0,
              "#0d0887"
             ],
             [
              0.1111111111111111,
              "#46039f"
             ],
             [
              0.2222222222222222,
              "#7201a8"
             ],
             [
              0.3333333333333333,
              "#9c179e"
             ],
             [
              0.4444444444444444,
              "#bd3786"
             ],
             [
              0.5555555555555556,
              "#d8576b"
             ],
             [
              0.6666666666666666,
              "#ed7953"
             ],
             [
              0.7777777777777778,
              "#fb9f3a"
             ],
             [
              0.8888888888888888,
              "#fdca26"
             ],
             [
              1,
              "#f0f921"
             ]
            ],
            "type": "heatmap"
           }
          ],
          "heatmapgl": [
           {
            "colorbar": {
             "outlinewidth": 0,
             "ticks": ""
            },
            "colorscale": [
             [
              0,
              "#0d0887"
             ],
             [
              0.1111111111111111,
              "#46039f"
             ],
             [
              0.2222222222222222,
              "#7201a8"
             ],
             [
              0.3333333333333333,
              "#9c179e"
             ],
             [
              0.4444444444444444,
              "#bd3786"
             ],
             [
              0.5555555555555556,
              "#d8576b"
             ],
             [
              0.6666666666666666,
              "#ed7953"
             ],
             [
              0.7777777777777778,
              "#fb9f3a"
             ],
             [
              0.8888888888888888,
              "#fdca26"
             ],
             [
              1,
              "#f0f921"
             ]
            ],
            "type": "heatmapgl"
           }
          ],
          "histogram": [
           {
            "marker": {
             "pattern": {
              "fillmode": "overlay",
              "size": 10,
              "solidity": 0.2
             }
            },
            "type": "histogram"
           }
          ],
          "histogram2d": [
           {
            "colorbar": {
             "outlinewidth": 0,
             "ticks": ""
            },
            "colorscale": [
             [
              0,
              "#0d0887"
             ],
             [
              0.1111111111111111,
              "#46039f"
             ],
             [
              0.2222222222222222,
              "#7201a8"
             ],
             [
              0.3333333333333333,
              "#9c179e"
             ],
             [
              0.4444444444444444,
              "#bd3786"
             ],
             [
              0.5555555555555556,
              "#d8576b"
             ],
             [
              0.6666666666666666,
              "#ed7953"
             ],
             [
              0.7777777777777778,
              "#fb9f3a"
             ],
             [
              0.8888888888888888,
              "#fdca26"
             ],
             [
              1,
              "#f0f921"
             ]
            ],
            "type": "histogram2d"
           }
          ],
          "histogram2dcontour": [
           {
            "colorbar": {
             "outlinewidth": 0,
             "ticks": ""
            },
            "colorscale": [
             [
              0,
              "#0d0887"
             ],
             [
              0.1111111111111111,
              "#46039f"
             ],
             [
              0.2222222222222222,
              "#7201a8"
             ],
             [
              0.3333333333333333,
              "#9c179e"
             ],
             [
              0.4444444444444444,
              "#bd3786"
             ],
             [
              0.5555555555555556,
              "#d8576b"
             ],
             [
              0.6666666666666666,
              "#ed7953"
             ],
             [
              0.7777777777777778,
              "#fb9f3a"
             ],
             [
              0.8888888888888888,
              "#fdca26"
             ],
             [
              1,
              "#f0f921"
             ]
            ],
            "type": "histogram2dcontour"
           }
          ],
          "mesh3d": [
           {
            "colorbar": {
             "outlinewidth": 0,
             "ticks": ""
            },
            "type": "mesh3d"
           }
          ],
          "parcoords": [
           {
            "line": {
             "colorbar": {
              "outlinewidth": 0,
              "ticks": ""
             }
            },
            "type": "parcoords"
           }
          ],
          "pie": [
           {
            "automargin": true,
            "type": "pie"
           }
          ],
          "scatter": [
           {
            "fillpattern": {
             "fillmode": "overlay",
             "size": 10,
             "solidity": 0.2
            },
            "type": "scatter"
           }
          ],
          "scatter3d": [
           {
            "line": {
             "colorbar": {
              "outlinewidth": 0,
              "ticks": ""
             }
            },
            "marker": {
             "colorbar": {
              "outlinewidth": 0,
              "ticks": ""
             }
            },
            "type": "scatter3d"
           }
          ],
          "scattercarpet": [
           {
            "marker": {
             "colorbar": {
              "outlinewidth": 0,
              "ticks": ""
             }
            },
            "type": "scattercarpet"
           }
          ],
          "scattergeo": [
           {
            "marker": {
             "colorbar": {
              "outlinewidth": 0,
              "ticks": ""
             }
            },
            "type": "scattergeo"
           }
          ],
          "scattergl": [
           {
            "marker": {
             "colorbar": {
              "outlinewidth": 0,
              "ticks": ""
             }
            },
            "type": "scattergl"
           }
          ],
          "scattermapbox": [
           {
            "marker": {
             "colorbar": {
              "outlinewidth": 0,
              "ticks": ""
             }
            },
            "type": "scattermapbox"
           }
          ],
          "scatterpolar": [
           {
            "marker": {
             "colorbar": {
              "outlinewidth": 0,
              "ticks": ""
             }
            },
            "type": "scatterpolar"
           }
          ],
          "scatterpolargl": [
           {
            "marker": {
             "colorbar": {
              "outlinewidth": 0,
              "ticks": ""
             }
            },
            "type": "scatterpolargl"
           }
          ],
          "scatterternary": [
           {
            "marker": {
             "colorbar": {
              "outlinewidth": 0,
              "ticks": ""
             }
            },
            "type": "scatterternary"
           }
          ],
          "surface": [
           {
            "colorbar": {
             "outlinewidth": 0,
             "ticks": ""
            },
            "colorscale": [
             [
              0,
              "#0d0887"
             ],
             [
              0.1111111111111111,
              "#46039f"
             ],
             [
              0.2222222222222222,
              "#7201a8"
             ],
             [
              0.3333333333333333,
              "#9c179e"
             ],
             [
              0.4444444444444444,
              "#bd3786"
             ],
             [
              0.5555555555555556,
              "#d8576b"
             ],
             [
              0.6666666666666666,
              "#ed7953"
             ],
             [
              0.7777777777777778,
              "#fb9f3a"
             ],
             [
              0.8888888888888888,
              "#fdca26"
             ],
             [
              1,
              "#f0f921"
             ]
            ],
            "type": "surface"
           }
          ],
          "table": [
           {
            "cells": {
             "fill": {
              "color": "#EBF0F8"
             },
             "line": {
              "color": "white"
             }
            },
            "header": {
             "fill": {
              "color": "#C8D4E3"
             },
             "line": {
              "color": "white"
             }
            },
            "type": "table"
           }
          ]
         },
         "layout": {
          "annotationdefaults": {
           "arrowcolor": "#2a3f5f",
           "arrowhead": 0,
           "arrowwidth": 1
          },
          "autotypenumbers": "strict",
          "coloraxis": {
           "colorbar": {
            "outlinewidth": 0,
            "ticks": ""
           }
          },
          "colorscale": {
           "diverging": [
            [
             0,
             "#8e0152"
            ],
            [
             0.1,
             "#c51b7d"
            ],
            [
             0.2,
             "#de77ae"
            ],
            [
             0.3,
             "#f1b6da"
            ],
            [
             0.4,
             "#fde0ef"
            ],
            [
             0.5,
             "#f7f7f7"
            ],
            [
             0.6,
             "#e6f5d0"
            ],
            [
             0.7,
             "#b8e186"
            ],
            [
             0.8,
             "#7fbc41"
            ],
            [
             0.9,
             "#4d9221"
            ],
            [
             1,
             "#276419"
            ]
           ],
           "sequential": [
            [
             0,
             "#0d0887"
            ],
            [
             0.1111111111111111,
             "#46039f"
            ],
            [
             0.2222222222222222,
             "#7201a8"
            ],
            [
             0.3333333333333333,
             "#9c179e"
            ],
            [
             0.4444444444444444,
             "#bd3786"
            ],
            [
             0.5555555555555556,
             "#d8576b"
            ],
            [
             0.6666666666666666,
             "#ed7953"
            ],
            [
             0.7777777777777778,
             "#fb9f3a"
            ],
            [
             0.8888888888888888,
             "#fdca26"
            ],
            [
             1,
             "#f0f921"
            ]
           ],
           "sequentialminus": [
            [
             0,
             "#0d0887"
            ],
            [
             0.1111111111111111,
             "#46039f"
            ],
            [
             0.2222222222222222,
             "#7201a8"
            ],
            [
             0.3333333333333333,
             "#9c179e"
            ],
            [
             0.4444444444444444,
             "#bd3786"
            ],
            [
             0.5555555555555556,
             "#d8576b"
            ],
            [
             0.6666666666666666,
             "#ed7953"
            ],
            [
             0.7777777777777778,
             "#fb9f3a"
            ],
            [
             0.8888888888888888,
             "#fdca26"
            ],
            [
             1,
             "#f0f921"
            ]
           ]
          },
          "colorway": [
           "#636efa",
           "#EF553B",
           "#00cc96",
           "#ab63fa",
           "#FFA15A",
           "#19d3f3",
           "#FF6692",
           "#B6E880",
           "#FF97FF",
           "#FECB52"
          ],
          "font": {
           "color": "#2a3f5f"
          },
          "geo": {
           "bgcolor": "white",
           "lakecolor": "white",
           "landcolor": "#E5ECF6",
           "showlakes": true,
           "showland": true,
           "subunitcolor": "white"
          },
          "hoverlabel": {
           "align": "left"
          },
          "hovermode": "closest",
          "mapbox": {
           "style": "light"
          },
          "paper_bgcolor": "white",
          "plot_bgcolor": "#E5ECF6",
          "polar": {
           "angularaxis": {
            "gridcolor": "white",
            "linecolor": "white",
            "ticks": ""
           },
           "bgcolor": "#E5ECF6",
           "radialaxis": {
            "gridcolor": "white",
            "linecolor": "white",
            "ticks": ""
           }
          },
          "scene": {
           "xaxis": {
            "backgroundcolor": "#E5ECF6",
            "gridcolor": "white",
            "gridwidth": 2,
            "linecolor": "white",
            "showbackground": true,
            "ticks": "",
            "zerolinecolor": "white"
           },
           "yaxis": {
            "backgroundcolor": "#E5ECF6",
            "gridcolor": "white",
            "gridwidth": 2,
            "linecolor": "white",
            "showbackground": true,
            "ticks": "",
            "zerolinecolor": "white"
           },
           "zaxis": {
            "backgroundcolor": "#E5ECF6",
            "gridcolor": "white",
            "gridwidth": 2,
            "linecolor": "white",
            "showbackground": true,
            "ticks": "",
            "zerolinecolor": "white"
           }
          },
          "shapedefaults": {
           "line": {
            "color": "#2a3f5f"
           }
          },
          "ternary": {
           "aaxis": {
            "gridcolor": "white",
            "linecolor": "white",
            "ticks": ""
           },
           "baxis": {
            "gridcolor": "white",
            "linecolor": "white",
            "ticks": ""
           },
           "bgcolor": "#E5ECF6",
           "caxis": {
            "gridcolor": "white",
            "linecolor": "white",
            "ticks": ""
           }
          },
          "title": {
           "x": 0.05
          },
          "xaxis": {
           "automargin": true,
           "gridcolor": "white",
           "linecolor": "white",
           "ticks": "",
           "title": {
            "standoff": 15
           },
           "zerolinecolor": "white",
           "zerolinewidth": 2
          },
          "yaxis": {
           "automargin": true,
           "gridcolor": "white",
           "linecolor": "white",
           "ticks": "",
           "title": {
            "standoff": 15
           },
           "zerolinecolor": "white",
           "zerolinewidth": 2
          }
         }
        },
        "title": {
         "text": "Target statistics"
        },
        "xaxis": {
         "anchor": "y",
         "domain": [
          0,
          0.45
         ],
         "title": {
          "text": "Target"
         }
        },
        "xaxis2": {
         "anchor": "y2",
         "domain": [
          0.55,
          1
         ],
         "title": {
          "text": "Target"
         }
        },
        "yaxis": {
         "anchor": "x",
         "domain": [
          0,
          1
         ]
        },
        "yaxis2": {
         "anchor": "x2",
         "domain": [
          0,
          1
         ]
        }
       }
      }
     },
     "metadata": {},
     "output_type": "display_data"
    }
   ],
   "source": [
    "# 보다 관계를 명확히 파악하기 위해 barplot을 이용한 시각화 코드 작성\n",
    "fig: go.Figure = make_subplots(\n",
    "    rows=1,\n",
    "    cols=2,\n",
    "    shared_xaxes=True,\n",
    "    subplot_titles=(\n",
    "        \"liquidation_diff\",\n",
    "        \"volume_diff\",\n",
    "    ),\n",
    ")\n",
    "fig.add_trace(go.Bar(x=bar_df[\"target\"], y=bar_df[\"liquidation_diff\"]), row=1, col=1)\n",
    "fig.add_trace(go.Bar(x=bar_df[\"target\"], y=bar_df[\"volume_diff\"]), row=1, col=2)\n",
    "fig.update_xaxes(title_text=\"Target\")\n",
    "fig.update_layout(title_text=\"Target statistics\", showlegend=False)\n",
    "fig.show()\n"
   ]
  },
  {
   "cell_type": "markdown",
   "metadata": {},
   "source": [
    "**위 그림으로부터 파악한 사실**\n",
    "- 가격 변동량이 클 때, 청산량의 차이 (long 청산 - short 청산)가 평균적으로 크다.\n",
    "- 가격 변동량이 클 때, 거래량의 차이 (buy 거래량 - sell 거래량)가 평균적으로 작아진다.\n",
    "\n",
    "따라서, 해당변수의 도입이 모델에 유의미한 영향을 줄 것이라 판단\n"
   ]
  },
  {
   "cell_type": "code",
   "execution_count": 11,
   "metadata": {},
   "outputs": [
    {
     "data": {
      "image/png": "[encoded data removed]",
      "text/plain": [
       "<Figure size 1000x600 with 1 Axes>"
      ]
     },
     "metadata": {},
     "output_type": "display_data"
    }
   ],
   "source": [
    "# 이동 평균 계산 (여기서는 3시간 이동 평균 예시)\n",
    "eda_df['open_interest_ma_3'] = eda_df['open_interest'].rolling(window=3).mean()\n",
    "\n",
    "# 이동 평균과 현재 open interest의 차이 계산\n",
    "eda_df['open_interest_diff_ma_3'] = eda_df['open_interest'] - eda_df['open_interest_ma_3']\n",
    "\n",
    "# 타겟별 open_interest_diff_ma_3의 평균 계산\n",
    "target_diff_ma_3_mean = eda_df.groupby('target')['open_interest_diff_ma_3'].mean()\n",
    "\n",
    "# 막대 그래프 시각화\n",
    "plt.figure(figsize=(10, 6))\n",
    "target_diff_ma_3_mean.plot(kind='bar', color='lightblue')\n",
    "plt.title(\"3hours\")\n",
    "plt.xticks(rotation=0)\n",
    "plt.show()"
   ]
  },
  {
   "cell_type": "code",
   "execution_count": 12,
   "metadata": {},
   "outputs": [
    {
     "data": {
      "image/png": "[encoded data removed]",
      "text/plain": [
       "<Figure size 1000x600 with 1 Axes>"
      ]
     },
     "metadata": {},
     "output_type": "display_data"
    }
   ],
   "source": [
    "# 이동 평균 계산 (여기서는 3시간 이동 평균 예시)\n",
    "eda_df['open_interest_ma_10'] = eda_df['open_interest'].rolling(window=10).mean()\n",
    "\n",
    "# 이동 평균과 현재 open interest의 차이 계산\n",
    "eda_df['open_interest_diff_ma_10'] = eda_df['open_interest'] - eda_df['open_interest_ma_10']\n",
    "\n",
    "# 타겟별 open_interest_diff_ma_3의 평균 계산\n",
    "target_diff_ma_10_mean = eda_df.groupby('target')['open_interest_diff_ma_10'].mean()\n",
    "\n",
    "# 막대 그래프 시각화\n",
    "plt.figure(figsize=(10, 6))\n",
    "target_diff_ma_10_mean.plot(kind='bar', color='lightblue')\n",
    "plt.title(\"10hours\")\n",
    "plt.xticks(rotation=0)\n",
    "plt.show()"
   ]
  },
  {
   "cell_type": "markdown",
   "metadata": {},
   "source": [
    "위 그림으로 파악했을 때\n",
    "3시간 이동평균과의 차이와 10시간 이동평균 차이가 다른 분포를 보임\n",
    "\n",
    "일단 이동평균과의 변화량을 구하면 1과 2를 구분하는데 유의미해보임\n"
   ]
  },
  {
   "cell_type": "markdown",
   "metadata": {},
   "source": [
    "### Feature engineering\n",
    "\n",
    "blockreward 변수 추가 "
   ]
  },
  {
   "cell_type": "code",
   "execution_count": 13,
   "metadata": {},
   "outputs": [
    {
     "data": {
      "text/plain": [
       "(11552, 20)"
      ]
     },
     "execution_count": 13,
     "metadata": {},
     "output_type": "execute_result"
    }
   ],
   "source": [
    "# 모델에 사용할 컬럼, 컬럼의 rename rule을 미리 할당함\n",
    "cols_dict: Dict[str, str] = {\n",
    "    \"ID\": \"ID\",\n",
    "    \"target\": \"target\",\n",
    "    \"_type\": \"_type\",\n",
    "    \"hourly_market-data_coinbase-premium-index_coinbase_premium_gap\": \"coinbase_premium_gap\",\n",
    "    \"hourly_market-data_coinbase-premium-index_coinbase_premium_index\": \"coinbase_premium_index\",\n",
    "    \"hourly_market-data_funding-rates_all_exchange_funding_rates\": \"funding_rates\",\n",
    "    \"hourly_market-data_liquidations_all_exchange_all_symbol_long_liquidations\": \"long_liquidations\",\n",
    "    \"hourly_market-data_liquidations_all_exchange_all_symbol_long_liquidations_usd\": \"long_liquidations_usd\",\n",
    "    \"hourly_market-data_liquidations_all_exchange_all_symbol_short_liquidations\": \"short_liquidations\",\n",
    "    \"hourly_market-data_liquidations_all_exchange_all_symbol_short_liquidations_usd\": \"short_liquidations_usd\",\n",
    "    \"hourly_market-data_open-interest_all_exchange_all_symbol_open_interest\": \"open_interest\",\n",
    "    \"hourly_market-data_taker-buy-sell-stats_all_exchange_taker_buy_ratio\": \"buy_ratio\",\n",
    "    \"hourly_market-data_taker-buy-sell-stats_all_exchange_taker_buy_sell_ratio\": \"buy_sell_ratio\",\n",
    "    \"hourly_market-data_taker-buy-sell-stats_all_exchange_taker_buy_volume\": \"buy_volume\",\n",
    "    \"hourly_market-data_taker-buy-sell-stats_all_exchange_taker_sell_ratio\": \"sell_ratio\",\n",
    "    \"hourly_market-data_taker-buy-sell-stats_all_exchange_taker_sell_volume\": \"sell_volume\",\n",
    "    \"hourly_network-data_addresses-count_addresses_count_active\": \"active_count\",\n",
    "    \"hourly_network-data_addresses-count_addresses_count_receiver\": \"receiver_count\",\n",
    "    \"hourly_network-data_addresses-count_addresses_count_sender\": \"sender_count\",\n",
    "    \"hourly_network-data_blockreward_blockreward\":\"blockreward\", #추가\n",
    "}\n",
    "df = df[cols_dict.keys()].rename(cols_dict, axis=1)\n",
    "df.shape"
   ]
  },
  {
   "cell_type": "code",
   "execution_count": 14,
   "metadata": {},
   "outputs": [],
   "source": [
    "# eda 에서 파악한 차이와 차이의 음수, 양수 여부를 새로운 피쳐로 생성\n",
    "df = df.assign(\n",
    "    liquidation_diff=df[\"long_liquidations\"] - df[\"short_liquidations\"],\n",
    "    liquidation_usd_diff=df[\"long_liquidations_usd\"] - df[\"short_liquidations_usd\"],\n",
    "    volume_diff=df[\"buy_volume\"] - df[\"sell_volume\"],\n",
    "    liquidation_diffg=np.sign(df[\"long_liquidations\"] - df[\"short_liquidations\"]),\n",
    "    liquidation_usd_diffg=np.sign(df[\"long_liquidations_usd\"] - df[\"short_liquidations_usd\"]),\n",
    "    volume_diffg=np.sign(df[\"buy_volume\"] - df[\"sell_volume\"]),\n",
    "    buy_sell_volume_ratio=df[\"buy_volume\"] / (df[\"sell_volume\"] + 1),\n",
    ")\n",
    "# category, continuous 열을 따로 할당해둠\n",
    "category_cols: List[str] = [\"liquidation_diffg\", \"liquidation_usd_diffg\", \"volume_diffg\"]\n",
    "conti_cols: List[str] = [_ for _ in cols_dict.values() if _ not in [\"ID\", \"target\", \"_type\"]] + [\n",
    "    \"buy_sell_volume_ratio\",\n",
    "    \"liquidation_diff\",\n",
    "    \"liquidation_usd_diff\",\n",
    "    \"volume_diff\",\n",
    "]"
   ]
  },
  {
   "cell_type": "markdown",
   "metadata": {},
   "source": [
    "### shift 추가"
   ]
  },
  {
   "cell_type": "code",
   "execution_count": 15,
   "metadata": {},
   "outputs": [],
   "source": [
    "def shift_feature(\n",
    "    df: pd.DataFrame,\n",
    "    conti_cols: List[str],\n",
    "    intervals: List[int],\n",
    ") -> List[pd.Series]:\n",
    "    \"\"\"\n",
    "    연속형 변수의 shift feature 생성\n",
    "    Args:\n",
    "        df (pd.DataFrame)\n",
    "        conti_cols (List[str]): continuous colnames\n",
    "        intervals (List[int]): shifted intervals\n",
    "    Return:\n",
    "        List[pd.Series]\n",
    "    \"\"\"\n",
    "    df_shift_dict = [\n",
    "        df[conti_col].shift(interval).rename(f\"{conti_col}_{interval}\")\n",
    "        for conti_col in conti_cols\n",
    "        for interval in intervals\n",
    "    ]\n",
    "    return df_shift_dict\n",
    "\n",
    "# 최대 4시간의 shift 피쳐를 계산\n",
    "shift_list = shift_feature(\n",
    "    df=df, conti_cols=conti_cols, intervals=[_ for _ in range(1,  4)]\n",
    ")"
   ]
  },
  {
   "cell_type": "markdown",
   "metadata": {},
   "source": [
    "#### rolling reature 추가\n",
    "\n",
    "단기간의 변동성을 알기위해 3시간 이동평균 추가"
   ]
  },
  {
   "cell_type": "code",
   "execution_count": 16,
   "metadata": {},
   "outputs": [],
   "source": [
    "def rolling_feature(df: pd.DataFrame, conti_cols: List[str], window_size: int) -> List[pd.Series]:\n",
    "    \"\"\"\n",
    "    연속형 변수의 rolling feature 생성\n",
    "    Args:\n",
    "        df (pd.DataFrame)\n",
    "        conti_cols (List[str]): continuous colnames\n",
    "        window_size (int): rolling window size\n",
    "    Return:\n",
    "        List[pd.Series]\n",
    "    \"\"\"\n",
    "    df_rolling_list = [\n",
    "        df[conti_col].rolling(window=window_size).mean().rename(f\"{conti_col}_rolling_mean_{window_size}\")\n",
    "        for conti_col in conti_cols\n",
    "    ]\n",
    "    return df_rolling_list\n",
    "\n",
    "rolling_list = rolling_feature(df=df, conti_cols=conti_cols, window_size=3)"
   ]
  },
  {
   "cell_type": "markdown",
   "metadata": {},
   "source": [
    "#### ema 추가 \n",
    "\n",
    "최근 변화에 더 많은 가중치를 주는 지수 이동 평균 추가"
   ]
  },
  {
   "cell_type": "code",
   "execution_count": 17,
   "metadata": {},
   "outputs": [],
   "source": [
    "def ema_feature(df: pd.DataFrame, conti_cols: List[str], span: int) -> List[pd.Series]:\n",
    "    \"\"\"\n",
    "    연속형 변수의 지수 이동 평균(EMA) 생성\n",
    "    Args:\n",
    "        df (pd.DataFrame)\n",
    "        conti_cols (List[str]): continuous colnames\n",
    "        span (int): EMA의 span (기간)\n",
    "    Return:\n",
    "        List[pd.Series]: 각 연속형 변수의 EMA 피처 리스트\n",
    "    \"\"\"\n",
    "    df_ema_list = [\n",
    "        df[conti_col].ewm(span=span, adjust=False).mean().rename(f\"{conti_col}_ema_{span}\")\n",
    "        for conti_col in conti_cols\n",
    "    ]\n",
    "    return df_ema_list\n",
    "# EMA span 3으로 EMA feature 생성\n",
    "ema_list = ema_feature(df=df, conti_cols=conti_cols, span=3)\n",
    "\n"
   ]
  },
  {
   "cell_type": "code",
   "execution_count": 18,
   "metadata": {},
   "outputs": [],
   "source": [
    "# concat 하여 df 에 할당\n",
    "df = pd.concat([df, pd.concat(shift_list, axis=1)], axis=1)\n",
    "df = pd.concat([df, pd.concat(rolling_list, axis=1)], axis=1)\n",
    "df = pd.concat([df, pd.concat(ema_list, axis=1)], axis=1)"
   ]
  },
  {
   "cell_type": "markdown",
   "metadata": {},
   "source": [
    "### 이동평균과 현재값 차이 \n",
    "\n",
    "이동평균값과의 차이를 통해 단기적인 변동성 측정"
   ]
  },
  {
   "cell_type": "code",
   "execution_count": 19,
   "metadata": {},
   "outputs": [],
   "source": [
    "# 이동 평균 계산 \n",
    "df['open_interest_rolling_mean_10'] = df['open_interest'].rolling(window=10).mean()\n",
    "\n",
    "# 이동 평균과 현재 open interest의 차이 계산\n",
    "df['open_interest_diff_10'] = df['open_interest'] - df['open_interest_rolling_mean_10']"
   ]
  },
  {
   "cell_type": "code",
   "execution_count": 20,
   "metadata": {},
   "outputs": [],
   "source": [
    "df['open_interest_diff_3'] = df['open_interest'] - df['open_interest_rolling_mean_3']\n",
    "df['blockreward_diff_3'] = df['blockreward'] - df['blockreward_rolling_mean_3']"
   ]
  },
  {
   "cell_type": "code",
   "execution_count": 21,
   "metadata": {},
   "outputs": [],
   "source": [
    "# 타겟 변수를 제외한 변수를 forwardfill, -999로 결측치 대체\n",
    "_target = df[\"target\"]\n",
    "df = df.ffill().fillna(-999).assign(target = _target)\n",
    "\n",
    "# _type에 따라 train, test 분리\n",
    "train_df = df.loc[df[\"_type\"]==\"train\"].drop(columns=[\"_type\"])\n",
    "test_df = df.loc[df[\"_type\"]==\"test\"].drop(columns=[\"_type\"])"
   ]
  },
  {
   "cell_type": "markdown",
   "metadata": {},
   "source": [
    "### Model Training XGB (하이퍼파라미터 튜닝)\n",
    "\n",
    "시계열 데이터 특성에 맞게 과거 데이터로 학습하고 그 다음 데이터로 검증하는 교차검증 방식을 사용함"
   ]
  },
  {
   "cell_type": "code",
   "execution_count": 22,
   "metadata": {},
   "outputs": [
    {
     "name": "stdout",
     "output_type": "stream",
     "text": [
      "Walk-forward 검증 평균 Accuracy: 0.44191780821917803\n",
      "Walk-forward 검증 평균 AUROC: 0.5868742559593565\n"
     ]
    }
   ],
   "source": [
    "# 학습 데이터 준비\n",
    "X = train_df.drop([\"target\", \"ID\"], axis=1)\n",
    "y = train_df[\"target\"].astype(int)\n",
    "\n",
    "# Walk-forward validation을 위한 TimeSeriesSplit 설정\n",
    "n_splits = 5\n",
    "tscv = TimeSeriesSplit(n_splits=n_splits)\n",
    "\n",
    "# 결과를 저장할 리스트\n",
    "accuracies = []\n",
    "aurocs = []\n",
    "conf_matrices = []\n",
    "\n",
    "\n",
    "# XGBoost 하이퍼파라미터 설정\n",
    "params = {\n",
    "    \"booster\": \"gbtree\",\n",
    "    \"objective\": \"multi:softprob\",  # 다중 클래스 분류\n",
    "    \"eval_metric\": \"mlogloss\",      # 다중 클래스 로그 손실\n",
    "    \"num_class\": 4,\n",
    "    \"eta\": 0.012894918529898103,                    # 학습률\n",
    "    \"max_depth\": 3,\n",
    "    \"min_child_weight\": 9,\n",
    "    \"subsample\":0.6049091029038681,\n",
    "    \"colsample_bytree\": 0.9049920210888682,\n",
    "    \"lambda\": 0.10434132982622774,\n",
    "    \"alpha\": 0.8925541390708353,\n",
    "    \"seed\": 42,\n",
    "}\n",
    "\n",
    "\n",
    "# Walk-forward validation with TimeSeriesSplit\n",
    "for train_index, valid_index in tscv.split(X):\n",
    "    X_train, X_valid = X.iloc[train_index], X.iloc[valid_index]\n",
    "    y_train, y_valid = y.iloc[train_index], y.iloc[valid_index]\n",
    "\n",
    "    # XGBoost DMatrix 생성\n",
    "    train_data = xgb.DMatrix(X_train, label=y_train)\n",
    "    valid_data = xgb.DMatrix(X_valid, label=y_valid)\n",
    "    \n",
    "    # XGBoost 모델 학습\n",
    "    xgb_model = xgb.train(\n",
    "        params=params,\n",
    "        dtrain=train_data,\n",
    "        num_boost_round=80,\n",
    "        evals=[(valid_data, \"validation\")],\n",
    "        early_stopping_rounds=3,\n",
    "        verbose_eval=False,\n",
    "    )\n",
    "    \n",
    "    # 검증 데이터로 예측\n",
    "    y_valid_pred = xgb_model.predict(valid_data)\n",
    "    y_valid_pred_class = np.argmax(y_valid_pred, axis=1)\n",
    "    \n",
    "    # 성능 평가\n",
    "    accuracy = accuracy_score(y_valid, y_valid_pred_class)\n",
    "    auroc = roc_auc_score(y_valid, y_valid_pred, multi_class=\"ovr\")\n",
    "    conf_matrix = confusion_matrix(y_valid, y_valid_pred_class)\n",
    "    \n",
    "    # 결과 저장\n",
    "    accuracies.append(accuracy)\n",
    "    aurocs.append(auroc)\n",
    "    conf_matrices.append(conf_matrix)\n",
    "\n",
    "# Walk-forward 결과 평균 계산\n",
    "mean_accuracy = np.mean(accuracies)\n",
    "mean_auroc = np.mean(aurocs)\n",
    "\n",
    "# Confusion matrix 합산\n",
    "total_conf_matrix = np.sum(conf_matrices, axis=0)\n",
    "\n",
    "print(f\"Walk-forward 검증 평균 Accuracy: {mean_accuracy}\")\n",
    "print(f\"Walk-forward 검증 평균 AUROC: {mean_auroc}\")"
   ]
  },
  {
   "cell_type": "code",
   "execution_count": 23,
   "metadata": {},
   "outputs": [
    {
     "data": {
      "text/plain": [
       "array([[   5,  259,  375,    2],\n",
       "       [   8, 1548, 1381,    1],\n",
       "       [  10, 1352, 1672,    2],\n",
       "       [   2,  304,  378,    1]])"
      ]
     },
     "execution_count": 23,
     "metadata": {},
     "output_type": "execute_result"
    }
   ],
   "source": [
    "total_conf_matrix "
   ]
  },
  {
   "cell_type": "code",
   "execution_count": 25,
   "metadata": {},
   "outputs": [
    {
     "name": "stdout",
     "output_type": "stream",
     "text": [
      "Class 0 Accuracy: 0.0078\n",
      "Class 1 Accuracy: 0.5269\n",
      "Class 2 Accuracy: 0.5507\n",
      "Class 3 Accuracy: 0.0015\n"
     ]
    }
   ],
   "source": [
    "# 각 클래스별 정답률 계산\n",
    "class_accuracies = []\n",
    "\n",
    "for i in range(len(total_conf_matrix)):\n",
    "    correct_predictions = total_conf_matrix[i, i]  # 대각선 값 (정답 개수)\n",
    "    total_predictions = np.sum(total_conf_matrix[i, :])  # 해당 행의 전체 값 (전체 예측 개수)\n",
    "    accuracy = correct_predictions / total_predictions\n",
    "    class_accuracies.append(accuracy)\n",
    "\n",
    "# 결과 출력\n",
    "for i, acc in enumerate(class_accuracies):\n",
    "    print(f\"Class {i} Accuracy: {acc:.4f}\")"
   ]
  },
  {
   "cell_type": "code",
   "execution_count": 26,
   "metadata": {},
   "outputs": [],
   "source": [
    "from sklearn.ensemble import RandomForestClassifier\n",
    "\n",
    "# 특성과 타겟 변수 준비\n",
    "X = train_df.drop(columns=['target','ID'])\n",
    "y = train_df['target']\n",
    "\n",
    "# RandomForest 모델 학습\n",
    "rf = RandomForestClassifier()\n",
    "rf.fit(X, y)\n",
    "\n",
    "# 중요 변수 출력\n",
    "importances = rf.feature_importances_\n",
    "feature_names = X.columns\n",
    "feature_importances = sorted(zip(importances, feature_names), reverse=True)"
   ]
  },
  {
   "cell_type": "code",
   "execution_count": 27,
   "metadata": {},
   "outputs": [
    {
     "data": {
      "text/plain": [
       "[(0.010296407729927176, 'open_interest_diff_3'),\n",
       " (0.010191531474544255, 'sell_volume'),\n",
       " (0.009647009683783443, 'sell_volume_ema_3'),\n",
       " (0.009623595100756, 'open_interest_diff_10'),\n",
       " (0.009418515669788125, 'active_count_3'),\n",
       " (0.009370648600890742, 'buy_volume'),\n",
       " (0.009349498386779294, 'blockreward_diff_3'),\n",
       " (0.009209216023563907, 'buy_volume_ema_3'),\n",
       " (0.009195508287176291, 'receiver_count_3'),\n",
       " (0.009078135889440661, 'receiver_count_2'),\n",
       " (0.009068771369827979, 'sell_volume_rolling_mean_3'),\n",
       " (0.008992973651602822, 'blockreward_1'),\n",
       " (0.008929121745263214, 'blockreward_3'),\n",
       " (0.008832515311264605, 'blockreward_rolling_mean_3'),\n",
       " (0.008738459700766995, 'receiver_count_1'),\n",
       " (0.008715953452110646, 'sender_count_3'),\n",
       " (0.008638434298533042, 'active_count_1'),\n",
       " (0.008613209957300652, 'blockreward_2'),\n",
       " (0.008556383676445225, 'liquidation_usd_diff'),\n",
       " (0.008533710223564927, 'active_count_2'),\n",
       " (0.008524807914167928, 'sender_count_2'),\n",
       " (0.00852348569708008, 'receiver_count'),\n",
       " (0.008465130675046142, 'long_liquidations_ema_3'),\n",
       " (0.008446087436932979, 'buy_volume_rolling_mean_3'),\n",
       " (0.008433292711180537, 'long_liquidations_usd_ema_3'),\n",
       " (0.008425725680400939, 'blockreward_ema_3'),\n",
       " (0.00829564069057008, 'sender_count'),\n",
       " (0.0082698030694513, 'active_count_rolling_mean_3'),\n",
       " (0.008259842429292041, 'volume_diff_ema_3'),\n",
       " (0.00825965870472512, 'sell_volume_1'),\n",
       " (0.008246370008357977, 'funding_rates_3'),\n",
       " (0.00821084699917381, 'volume_diff'),\n",
       " (0.008210394429680338, 'buy_volume_1'),\n",
       " (0.008170992471453645, 'sell_volume_2'),\n",
       " (0.00813868935196715, 'sell_volume_3'),\n",
       " (0.008111776817890255, 'sender_count_1'),\n",
       " (0.008101220983250003, 'volume_diff_3'),\n",
       " (0.008087323817754096, 'blockreward'),\n",
       " (0.008079952150878146, 'buy_volume_3'),\n",
       " (0.008019170177238555, 'sender_count_ema_3'),\n",
       " (0.007935010805844116, 'receiver_count_ema_3'),\n",
       " (0.007916944312260484, 'liquidation_usd_diff_3'),\n",
       " (0.00790189308246953, 'sender_count_rolling_mean_3'),\n",
       " (0.007872886706665042, 'liquidation_diff_ema_3'),\n",
       " (0.007852755260143719, 'liquidation_diff_2'),\n",
       " (0.007839996649810006, 'volume_diff_2'),\n",
       " (0.007805790887427588, 'liquidation_diff_3'),\n",
       " (0.007770318797224046, 'short_liquidations_usd_ema_3'),\n",
       " (0.007753089358844567, 'funding_rates_1'),\n",
       " (0.007740109308474102, 'active_count'),\n",
       " (0.007723379455368195, 'liquidation_diff'),\n",
       " (0.007722410817612875, 'volume_diff_1'),\n",
       " (0.007717698352767861, 'liquidation_usd_diff_ema_3'),\n",
       " (0.007656629751241136, 'long_liquidations'),\n",
       " (0.007652340547011994, 'short_liquidations_ema_3'),\n",
       " (0.007646648187239896, 'receiver_count_rolling_mean_3'),\n",
       " (0.0076039038509283785, 'volume_diff_rolling_mean_3'),\n",
       " (0.007601581033293657, 'long_liquidations_usd'),\n",
       " (0.007591916137543759, 'active_count_ema_3'),\n",
       " (0.007556704169457118, 'funding_rates_2'),\n",
       " (0.007529766349954926, 'liquidation_diff_1'),\n",
       " (0.007503221145325465, 'funding_rates_ema_3'),\n",
       " (0.00750240761589413, 'open_interest_3'),\n",
       " (0.007493301544149559, 'open_interest'),\n",
       " (0.007435277385319377, 'funding_rates'),\n",
       " (0.007417162715185841, 'buy_volume_2'),\n",
       " (0.007411696954829238, 'long_liquidations_usd_1'),\n",
       " (0.007405413231794183, 'short_liquidations_usd'),\n",
       " (0.007386903194058924, 'buy_sell_volume_ratio_ema_3'),\n",
       " (0.007384029359609001, 'buy_sell_ratio'),\n",
       " (0.0073761028940572656, 'buy_ratio_ema_3'),\n",
       " (0.007360668105428966, 'open_interest_1'),\n",
       " (0.00735845908303929, 'long_liquidations_rolling_mean_3'),\n",
       " (0.007357243982552666, 'long_liquidations_usd_3'),\n",
       " (0.007353393150507539, 'buy_ratio_3'),\n",
       " (0.007329463355097936, 'buy_ratio'),\n",
       " (0.007316406296596369, 'coinbase_premium_index_ema_3'),\n",
       " (0.007313680811277603, 'open_interest_ema_3'),\n",
       " (0.007308017051405039, 'short_liquidations_3'),\n",
       " (0.007282676672264799, 'coinbase_premium_index_3'),\n",
       " (0.007276723579277453, 'buy_sell_ratio_3'),\n",
       " (0.007241563018904752, 'liquidation_usd_diff_rolling_mean_3'),\n",
       " (0.007235438407027782, 'long_liquidations_3'),\n",
       " (0.0072214401438900015, 'sell_ratio'),\n",
       " (0.00722064606707754, 'sell_ratio_3'),\n",
       " (0.007216953866615572, 'short_liquidations_1'),\n",
       " (0.007174482345430891, 'coinbase_premium_gap_2'),\n",
       " (0.007173937644621787, 'liquidation_usd_diff_2'),\n",
       " (0.007168115845630597, 'long_liquidations_usd_rolling_mean_3'),\n",
       " (0.0071609430342096814, 'coinbase_premium_index_1'),\n",
       " (0.007158149871868479, 'buy_sell_volume_ratio_rolling_mean_3'),\n",
       " (0.0071574454831447, 'open_interest_rolling_mean_3'),\n",
       " (0.007124302524805432, 'long_liquidations_1'),\n",
       " (0.0071241623152983515, 'liquidation_usd_diff_1'),\n",
       " (0.007110210465559502, 'buy_sell_volume_ratio_3'),\n",
       " (0.007094535495034471, 'short_liquidations_usd_1'),\n",
       " (0.007085346254991997, 'short_liquidations_usd_3'),\n",
       " (0.007063744634874755, 'sell_ratio_ema_3'),\n",
       " (0.007030338770521902, 'buy_sell_ratio_rolling_mean_3'),\n",
       " (0.0070241609562541885, 'open_interest_rolling_mean_10'),\n",
       " (0.007017001834348392, 'buy_sell_volume_ratio_1'),\n",
       " (0.00700794466691115, 'buy_sell_ratio_2'),\n",
       " (0.0070065469313151585, 'open_interest_2'),\n",
       " (0.006989726625417635, 'short_liquidations'),\n",
       " (0.006985564903814939, 'short_liquidations_2'),\n",
       " (0.006976353920513573, 'buy_sell_volume_ratio'),\n",
       " (0.006970598416427965, 'coinbase_premium_gap'),\n",
       " (0.006968014381509233, 'buy_sell_volume_ratio_2'),\n",
       " (0.006967019664776758, 'coinbase_premium_index'),\n",
       " (0.006962448557484014, 'funding_rates_rolling_mean_3'),\n",
       " (0.006959961536012078, 'short_liquidations_usd_rolling_mean_3'),\n",
       " (0.006933157422767147, 'coinbase_premium_index_2'),\n",
       " (0.006885171944458982, 'sell_ratio_2'),\n",
       " (0.0068631709152933255, 'buy_sell_ratio_ema_3'),\n",
       " (0.006846272922761989, 'sell_ratio_1'),\n",
       " (0.006836077006744139, 'coinbase_premium_gap_ema_3'),\n",
       " (0.006832987714564388, 'coinbase_premium_gap_3'),\n",
       " (0.006824325147966767, 'buy_ratio_2'),\n",
       " (0.0068179212602442855, 'buy_ratio_1'),\n",
       " (0.0067896508042767645, 'liquidation_diff_rolling_mean_3'),\n",
       " (0.006734502379261942, 'short_liquidations_usd_2'),\n",
       " (0.0067023636560737156, 'sell_ratio_rolling_mean_3'),\n",
       " (0.0066985504046720434, 'long_liquidations_usd_2'),\n",
       " (0.006695616853343756, 'long_liquidations_2'),\n",
       " (0.006656255805655773, 'short_liquidations_rolling_mean_3'),\n",
       " (0.006600576836546097, 'buy_sell_ratio_1'),\n",
       " (0.0063664904881252544, 'coinbase_premium_index_rolling_mean_3'),\n",
       " (0.0063605191518202155, 'coinbase_premium_gap_1'),\n",
       " (0.006345829636458364, 'coinbase_premium_gap_rolling_mean_3'),\n",
       " (0.006187226210088501, 'buy_ratio_rolling_mean_3'),\n",
       " (0.0008139826206508209, 'liquidation_diffg'),\n",
       " (0.0006914594361825074, 'volume_diffg'),\n",
       " (0.0006769583986752041, 'liquidation_usd_diffg')]"
      ]
     },
     "execution_count": 27,
     "metadata": {},
     "output_type": "execute_result"
    }
   ],
   "source": [
    "feature_importances[:]"
   ]
  },
  {
   "cell_type": "markdown",
   "metadata": {},
   "source": [
    "------"
   ]
  },
  {
   "cell_type": "code",
   "execution_count": 28,
   "metadata": {},
   "outputs": [],
   "source": [
    "# performance 체크후 전체 학습 데이터로 다시 재학습\n",
    "x_train = train_df.drop([\"target\", \"ID\"], axis = 1)\n",
    "y_train = train_df[\"target\"].astype(int)\n",
    "train_data = xgb.DMatrix(x_train, label=y_train)\n",
    "# XGBoost 모델 학습\n",
    "lgb_model = xgb.train(\n",
    "    params=params,\n",
    "    dtrain=train_data,\n",
    "    num_boost_round=80,  \n",
    "    verbose_eval=False      \n",
    ")"
   ]
  },
  {
   "cell_type": "markdown",
   "metadata": {},
   "source": [
    "### Inference"
   ]
  },
  {
   "cell_type": "code",
   "execution_count": 29,
   "metadata": {},
   "outputs": [
    {
     "name": "stdout",
     "output_type": "stream",
     "text": [
      "[2 1 2 ... 1 1 1]\n"
     ]
    }
   ],
   "source": [
    "# test 데이터 준비\n",
    "test_data = xgb.DMatrix(test_df.drop([\"target\", \"ID\"], axis=1))\n",
    "\n",
    "# xgb predict\n",
    "y_test_pred = xgb_model.predict(test_data)\n",
    "y_test_pred_class = np.argmax(y_test_pred, axis=1)\n",
    "\n",
    "# 예측 결과 출력\n",
    "print(y_test_pred_class)"
   ]
  },
  {
   "cell_type": "markdown",
   "metadata": {},
   "source": [
    "### Output File Save"
   ]
  },
  {
   "cell_type": "code",
   "execution_count": 37,
   "metadata": {},
   "outputs": [],
   "source": [
    "# output file 할당후 save \n",
    "submission_df = submission_df.assign(target = y_test_pred_class)\n",
    "submission_df.to_csv(\"output_last.csv\", index=False)"
   ]
  }
 ],
 "metadata": {
  "kernelspec": {
   "display_name": "ml-lecture",
   "language": "python",
   "name": "python3"
  },
  "language_info": {
   "codemirror_mode": {
    "name": "ipython",
    "version": 3
   },
   "file_extension": ".py",
   "mimetype": "text/x-python",
   "name": "python",
   "nbconvert_exporter": "python",
   "pygments_lexer": "ipython3",
   "version": "3.9.0"
  }
 },
 "nbformat": 4,
 "nbformat_minor": 2
}
